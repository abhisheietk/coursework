{
 "cells": [
  {
   "cell_type": "markdown",
   "metadata": {},
   "source": [
    "9. Solve the linear equation $aX + bY = c$ for given $a, b, c$. Find the solution $X$ which is the smallest positive integer.\n",
    "(b) $a = 2^{100} − 1$, $b = 2^{102} − 1$, $c = 6442450941$"
   ]
  },
  {
   "cell_type": "code",
   "execution_count": 1,
   "metadata": {
    "collapsed": false
   },
   "outputs": [
    {
     "data": {
      "text/plain": [
       "1267650600228229401496703205376"
      ]
     },
     "execution_count": 1,
     "metadata": {},
     "output_type": "execute_result"
    }
   ],
   "source": [
    "2^100"
   ]
  },
  {
   "cell_type": "code",
   "execution_count": 2,
   "metadata": {
    "collapsed": true
   },
   "outputs": [],
   "source": [
    "a = 2^100 -1"
   ]
  },
  {
   "cell_type": "code",
   "execution_count": 3,
   "metadata": {
    "collapsed": true
   },
   "outputs": [],
   "source": [
    "b = 2^102 -1"
   ]
  },
  {
   "cell_type": "code",
   "execution_count": 4,
   "metadata": {
    "collapsed": false
   },
   "outputs": [
    {
     "data": {
      "text/plain": [
       "3"
      ]
     },
     "execution_count": 4,
     "metadata": {},
     "output_type": "execute_result"
    }
   ],
   "source": [
    "gcd(a, b)"
   ]
  },
  {
   "cell_type": "code",
   "execution_count": 7,
   "metadata": {
    "collapsed": false
   },
   "outputs": [
    {
     "name": "stdout",
     "output_type": "stream",
     "text": [
      "6442450941\n"
     ]
    }
   ],
   "source": [
    "y = 6442450941/3\n",
    "x = y * 4\n",
    "print - x * a + y * b\n"
   ]
  },
  {
   "cell_type": "markdown",
   "metadata": {},
   "source": [
    "(c) $(193707721)X = 1 mod 761838257287$"
   ]
  },
  {
   "cell_type": "code",
   "execution_count": 8,
   "metadata": {
    "collapsed": false
   },
   "outputs": [
    {
     "data": {
      "text/plain": [
       "1"
      ]
     },
     "execution_count": 8,
     "metadata": {},
     "output_type": "execute_result"
    }
   ],
   "source": [
    "gcd(193707721, 761838257287)"
   ]
  },
  {
   "cell_type": "code",
   "execution_count": 49,
   "metadata": {
    "collapsed": false
   },
   "outputs": [
    {
     "name": "stdout",
     "output_type": "stream",
     "text": [
      "193707721 )\t761838257287 ( 3932\n",
      "\t\t761658758972\n",
      "\t\t_______\n",
      "\t\t179498315\n",
      "\n",
      "179498315 )\t193707721 ( 1\n",
      "\t\t179498315\n",
      "\t\t_______\n",
      "\t\t14209406\n",
      "\n",
      "14209406 )\t179498315 ( 12\n",
      "\t\t170512872\n",
      "\t\t_______\n",
      "\t\t8985443\n",
      "\n",
      "8985443 )\t14209406 ( 1\n",
      "\t\t8985443\n",
      "\t\t_______\n",
      "\t\t5223963\n",
      "\n",
      "5223963 )\t8985443 ( 1\n",
      "\t\t5223963\n",
      "\t\t_______\n",
      "\t\t3761480\n",
      "\n",
      "3761480 )\t5223963 ( 1\n",
      "\t\t3761480\n",
      "\t\t_______\n",
      "\t\t1462483\n",
      "\n",
      "1462483 )\t3761480 ( 2\n",
      "\t\t2924966\n",
      "\t\t_______\n",
      "\t\t836514\n",
      "\n",
      "836514 )\t1462483 ( 1\n",
      "\t\t836514\n",
      "\t\t_______\n",
      "\t\t625969\n",
      "\n",
      "625969 )\t836514 ( 1\n",
      "\t\t625969\n",
      "\t\t_______\n",
      "\t\t210545\n",
      "\n",
      "210545 )\t625969 ( 2\n",
      "\t\t421090\n",
      "\t\t_______\n",
      "\t\t204879\n",
      "\n",
      "204879 )\t210545 ( 1\n",
      "\t\t204879\n",
      "\t\t_______\n",
      "\t\t5666\n",
      "\n",
      "5666 )\t204879 ( 36\n",
      "\t\t203976\n",
      "\t\t_______\n",
      "\t\t903\n",
      "\n",
      "903 )\t5666 ( 6\n",
      "\t\t5418\n",
      "\t\t_______\n",
      "\t\t248\n",
      "\n",
      "248 )\t903 ( 3\n",
      "\t\t744\n",
      "\t\t_______\n",
      "\t\t159\n",
      "\n",
      "159 )\t248 ( 1\n",
      "\t\t159\n",
      "\t\t_______\n",
      "\t\t89\n",
      "\n",
      "89 )\t159 ( 1\n",
      "\t\t89\n",
      "\t\t_______\n",
      "\t\t70\n",
      "\n",
      "70 )\t89 ( 1\n",
      "\t\t70\n",
      "\t\t_______\n",
      "\t\t19\n",
      "\n",
      "19 )\t70 ( 3\n",
      "\t\t57\n",
      "\t\t_______\n",
      "\t\t13\n",
      "\n",
      "13 )\t19 ( 1\n",
      "\t\t13\n",
      "\t\t_______\n",
      "\t\t6\n",
      "\n",
      "6 )\t13 ( 2\n",
      "\t\t12\n",
      "\t\t_______\n",
      "\t\t1\n",
      "\n",
      "[179498315, 14209406, 8985443, 5223963, 3761480, 1462483, 836514, 625969, 210545, 204879, 5666, 903, 248, 159, 89, 70, 19, 13, 6, 1] [3932, 1, 12, 1, 1, 1, 2, 1, 1, 2, 1, 36, 6, 3, 1, 1, 1, 3, 1, 2]\n",
      "0 0\n",
      "0 1\n",
      "3932 -3932\n",
      "1 3933\n",
      "12 -51128\n",
      "1 55061\n",
      "1 -106189\n",
      "1 161250\n",
      "2 -428689\n",
      "1 589939\n",
      "1 -1018628\n",
      "2 2627195\n",
      "1 -3645823\n",
      "36 133876823\n",
      "6 -806906761\n",
      "3 2554597106\n",
      "1 -3361503867\n",
      "1 5916100973\n",
      "1 -9277604840\n",
      "3 33748915493\n",
      "1 -43026520333\n",
      "2 119801956159\n"
     ]
    }
   ],
   "source": [
    "a = 193707721\n",
    "b = 761838257287\n",
    "\n",
    "def extendedEculid(a, b):\n",
    "    rlist = []\n",
    "    qlist = []\n",
    "    while True:\n",
    "        r = b%a\n",
    "        q = (b - r)/a\n",
    "        rlist.append(r)\n",
    "        qlist.append(q)\n",
    "        print a, ')\\t', b, '(', q\n",
    "        print '\\t\\t', a*q\n",
    "        print '\\t\\t_______'\n",
    "        print '\\t\\t', r\n",
    "        print \n",
    "        if r == 0 or r == 1:\n",
    "            break\n",
    "        b = a\n",
    "        a = r\n",
    "    print rlist, qlist\n",
    "    h = 0\n",
    "    j = 1\n",
    "    print 0, h\n",
    "    print 0, j\n",
    "    for i in qlist:\n",
    "        k = h - j * i\n",
    "        print i, k\n",
    "        h = j\n",
    "        j = k\n",
    "    return k\n",
    "c = extendedEculid(a, b)"
   ]
  },
  {
   "cell_type": "code",
   "execution_count": 54,
   "metadata": {
    "collapsed": false
   },
   "outputs": [
    {
     "name": "stdout",
     "output_type": "stream",
     "text": [
      "1\n"
     ]
    }
   ],
   "source": [
    "print mod(c*a, b)"
   ]
  },
  {
   "cell_type": "code",
   "execution_count": null,
   "metadata": {
    "collapsed": true
   },
   "outputs": [],
   "source": []
  }
 ],
 "metadata": {
  "kernelspec": {
   "display_name": "SageMath 6.10",
   "language": "",
   "name": "sagemath"
  },
  "language_info": {
   "codemirror_mode": {
    "name": "ipython",
    "version": 2
   },
   "file_extension": ".py",
   "mimetype": "text/x-python",
   "name": "python",
   "nbconvert_exporter": "python",
   "pygments_lexer": "ipython2",
   "version": "2.7.11"
  }
 },
 "nbformat": 4,
 "nbformat_minor": 0
}
