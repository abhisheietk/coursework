{
 "cells": [
  {
   "cell_type": "markdown",
   "metadata": {},
   "source": [
    "Find q-adic expansions: of $34787$, $55833$, $(34787)(55833)$ for $q = 25, 101$ on calculator."
   ]
  },
  {
   "cell_type": "code",
   "execution_count": 1,
   "metadata": {
    "collapsed": false
   },
   "outputs": [
    {
     "name": "stdout",
     "output_type": "stream",
     "text": [
      "34787 -> (12, 43)\n"
     ]
    }
   ],
   "source": [
    "A = mod(34787, 25), mod(34787, 101)\n",
    "print '34787 ->', A"
   ]
  },
  {
   "cell_type": "code",
   "execution_count": 2,
   "metadata": {
    "collapsed": false
   },
   "outputs": [
    {
     "name": "stdout",
     "output_type": "stream",
     "text": [
      "55833 -> (8, 81)\n"
     ]
    }
   ],
   "source": [
    "B = mod(55833, 25), mod(55833, 101)\n",
    "print '55833 ->', B"
   ]
  },
  {
   "cell_type": "code",
   "execution_count": 3,
   "metadata": {
    "collapsed": false
   },
   "outputs": [
    {
     "name": "stdout",
     "output_type": "stream",
     "text": [
      "(34787)(55833) -> (21, 49)\n"
     ]
    }
   ],
   "source": [
    "C = A[0]*B[0], A[1]*B[1]\n",
    "print '(34787)(55833) ->', C"
   ]
  },
  {
   "cell_type": "code",
   "execution_count": 4,
   "metadata": {
    "collapsed": false
   },
   "outputs": [
    {
     "name": "stdout",
     "output_type": "stream",
     "text": [
      "1942262571\n"
     ]
    }
   ],
   "source": [
    "#crosscheck\n",
    "C = 34787*55833\n",
    "print C"
   ]
  },
  {
   "cell_type": "code",
   "execution_count": 5,
   "metadata": {
    "collapsed": false
   },
   "outputs": [
    {
     "name": "stdout",
     "output_type": "stream",
     "text": [
      "(34787)(55833) -> (21, 49)\n"
     ]
    }
   ],
   "source": [
    "D = mod(C, 25), mod(C, 101)\n",
    "print '(34787)(55833) ->', D"
   ]
  },
  {
   "cell_type": "code",
   "execution_count": 6,
   "metadata": {
    "collapsed": false
   },
   "outputs": [
    {
     "data": {
      "text/plain": [
       "(12, 43)"
      ]
     },
     "execution_count": 6,
     "metadata": {},
     "output_type": "execute_result"
    }
   ],
   "source": [
    "#Reverse Expansion\n",
    "A"
   ]
  },
  {
   "cell_type": "code",
   "execution_count": 7,
   "metadata": {
    "collapsed": false
   },
   "outputs": [
    {
     "name": "stdout",
     "output_type": "stream",
     "text": [
      "1962\n",
      "1962\n"
     ]
    }
   ],
   "source": [
    "N_25 = 101\n",
    "inv_N_25 = inverse_mod(101, 25)\n",
    "N_101 = 25\n",
    "inv_N_101 = inverse_mod(25, 101)\n",
    "n = int(A[0]) * N_25 * inv_N_25 + int(A[1]) * N_101 * inv_N_101\n",
    "print mod(n, 25 * 101)\n",
    "print mod(34787, 25 * 101)"
   ]
  },
  {
   "cell_type": "code",
   "execution_count": 1,
   "metadata": {
    "collapsed": false
   },
   "outputs": [
    {
     "data": {
      "text/plain": [
       "97"
      ]
     },
     "execution_count": 1,
     "metadata": {},
     "output_type": "execute_result"
    }
   ],
   "source": [
    "inverse_mod(25, 101)"
   ]
  },
  {
   "cell_type": "markdown",
   "metadata": {},
   "source": [
    "Show how you can find the multiple base expansion of numbers. (We can call such expansion polyadic). For b 1 = 2, b 2 = 3 such an expansion represents a number a in the form\n",
    "$$a = a_{00} + a_{10} 2 + a_{01} 3 + a_{11} 2.3 + a_{21} 2^2.3 + a_{12} 2.3^2 + a_{22} 2^2 .3^2 + . . .$$\n",
    "\n",
    "What is the largest power of the base required given the number a? Develop a method of high school multiplication and division with remainder in terms of polyadic expansion.\n",
    "Compute expansions of numbers in problem 1 above in bases 2, 3."
   ]
  },
  {
   "cell_type": "code",
   "execution_count": 2,
   "metadata": {
    "collapsed": false
   },
   "outputs": [
    {
     "data": {
      "text/plain": [
       "[3, 2789]"
      ]
     },
     "execution_count": 2,
     "metadata": {},
     "output_type": "execute_result"
    }
   ],
   "source": [
    "prime_divisors(25101)"
   ]
  },
  {
   "cell_type": "markdown",
   "metadata": {},
   "source": [
    "$11^{507} mod 1237$"
   ]
  },
  {
   "cell_type": "code",
   "execution_count": 12,
   "metadata": {
    "collapsed": false
   },
   "outputs": [
    {
     "data": {
      "text/plain": [
       "322"
      ]
     },
     "execution_count": 12,
     "metadata": {},
     "output_type": "execute_result"
    }
   ],
   "source": [
    "R = Integers(1237)\n",
    "a = R(11)\n",
    "a^507"
   ]
  },
  {
   "cell_type": "code",
   "execution_count": 1,
   "metadata": {
    "collapsed": false
   },
   "outputs": [
    {
     "data": {
      "text/plain": [
       "97"
      ]
     },
     "execution_count": 1,
     "metadata": {},
     "output_type": "execute_result"
    }
   ],
   "source": [
    "R = Integers(101)\n",
    "a = R(25)\n",
    "a^99"
   ]
  },
  {
   "cell_type": "code",
   "execution_count": null,
   "metadata": {
    "collapsed": true
   },
   "outputs": [],
   "source": []
  }
 ],
 "metadata": {
  "hide_input": true,
  "kernelspec": {
   "display_name": "SageMath 6.10",
   "language": "",
   "name": "sagemath"
  },
  "language_info": {
   "codemirror_mode": {
    "name": "ipython",
    "version": 2
   },
   "file_extension": ".py",
   "mimetype": "text/x-python",
   "name": "python",
   "nbconvert_exporter": "python",
   "pygments_lexer": "ipython2",
   "version": "2.7.11"
  },
  "latex_envs": {
   "bibliofile": "biblio.bib",
   "cite_by": "apalike",
   "current_citInitial": 1,
   "eqLabelWithNumbers": true,
   "eqNumInitial": 0
  }
 },
 "nbformat": 4,
 "nbformat_minor": 0
}
